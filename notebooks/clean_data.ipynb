{
 "cells": [
  {
   "cell_type": "code",
   "execution_count": 5,
   "metadata": {},
   "outputs": [],
   "source": [
    "# SET UP\n",
    "import pandas as pd\n",
    "from datetime import datetime\n",
    "from datetime import date\n",
    "from notebook_to_lib_config import set_path \n",
    "config = set_path()\n",
    "CLEANED_DATA_PATH = config['CLEANED_DATA_PATH']"
   ]
  },
  {
   "cell_type": "code",
   "execution_count": 6,
   "metadata": {},
   "outputs": [
    {
     "name": "stdout",
     "output_type": "stream",
     "text": [
      "2025-06-12\n"
     ]
    }
   ],
   "source": [
    "today = date.today()\n",
    "print(today)"
   ]
  },
  {
   "cell_type": "markdown",
   "metadata": {},
   "source": [
    "## Clean Up - Undo Today's Data"
   ]
  },
  {
   "cell_type": "code",
   "execution_count": 11,
   "metadata": {},
   "outputs": [
    {
     "name": "stdout",
     "output_type": "stream",
     "text": [
      "Previous length:  72627\n",
      "Length now:  71274\n"
     ]
    }
   ],
   "source": [
    "POST_METRICS_CSV_PATH = CLEANED_DATA_PATH + \"daily_post_metrics.csv\"\n",
    "POST_METRICS_EXCEL_PATH = CLEANED_DATA_PATH + \"daily_post_metrics.xlsx\"\n",
    "post_metrics = pd.read_csv(POST_METRICS_CSV_PATH)\n",
    "print(\"Previous length: \", len(post_metrics))\n",
    "# Ensure the column is in datetime format\n",
    "post_metrics['extraction_date'] = pd.to_datetime(post_metrics['extraction_date'])\n",
    "# Filter out rows from today\n",
    "post_metrics = post_metrics[post_metrics['extraction_date'] != str(today)]\n",
    "post_metrics.to_csv(POST_METRICS_CSV_PATH, mode=\"w\", index=False, header=True)\n",
    "post_metrics.to_excel(POST_METRICS_EXCEL_PATH, sheet_name=\"post_metrics\", index=False)\n",
    "print(\"Length now: \", len(post_metrics))"
   ]
  },
  {
   "cell_type": "code",
   "execution_count": 12,
   "metadata": {},
   "outputs": [
    {
     "name": "stdout",
     "output_type": "stream",
     "text": [
      "Previous length:  63\n",
      "Length now:  62\n"
     ]
    }
   ],
   "source": [
    "PROFILE_METRICS_CSV_PATH = CLEANED_DATA_PATH + \"daily_profile_metrics.csv\"\n",
    "PROFILE_METRICS_EXCEL_PATH = CLEANED_DATA_PATH + \"daily_profile_metrics.xlsx\"\n",
    "profile_metrics = pd.read_csv(PROFILE_METRICS_CSV_PATH)\n",
    "print(\"Previous length: \", len(profile_metrics))\n",
    "# Ensure the column is in datetime format\n",
    "profile_metrics['extraction_date'] = pd.to_datetime(profile_metrics['extraction_date'])\n",
    "# Filter out rows from today\n",
    "profile_metrics = profile_metrics[profile_metrics['extraction_date'] != str(today)]\n",
    "profile_metrics.to_csv(PROFILE_METRICS_CSV_PATH, mode=\"w\", index=False, header=True)\n",
    "profile_metrics.to_excel(PROFILE_METRICS_EXCEL_PATH, sheet_name=\"profile_metrics\", index=False)\n",
    "print(\"Length now: \", len(profile_metrics))"
   ]
  },
  {
   "cell_type": "code",
   "execution_count": 13,
   "metadata": {},
   "outputs": [
    {
     "name": "stdout",
     "output_type": "stream",
     "text": [
      "Previous length:  3528\n",
      "Length now:  3465\n"
     ]
    }
   ],
   "source": [
    "DEMOGRAPHIC_METRICS_CSV_PATH = CLEANED_DATA_PATH + \"daily_demographic_metrics.csv\"\n",
    "DEMOGRAPHIC_METRICS_EXCEL_PATH = CLEANED_DATA_PATH + \"daily_demographic_metrics.xlsx\"\n",
    "demographics_metrics = pd.read_csv(DEMOGRAPHIC_METRICS_CSV_PATH)\n",
    "print(\"Previous length: \", len(demographics_metrics))\n",
    "# Ensure the column is in datetime format\n",
    "demographics_metrics['extraction_date'] = pd.to_datetime(demographics_metrics['extraction_date'])\n",
    "# Filter out rows from today\n",
    "demographics_metrics = demographics_metrics[demographics_metrics['extraction_date'] != str(today)]\n",
    "demographics_metrics.to_csv(DEMOGRAPHIC_METRICS_CSV_PATH, mode=\"w\", index=False, header=True)\n",
    "demographics_metrics.to_excel(DEMOGRAPHIC_METRICS_EXCEL_PATH, sheet_name=\"demographics_metrics\", index=False)\n",
    "print(\"Length now: \", len(demographics_metrics))"
   ]
  },
  {
   "cell_type": "code",
   "execution_count": 14,
   "metadata": {},
   "outputs": [
    {
     "name": "stdout",
     "output_type": "stream",
     "text": [
      "Previous length:  672\n",
      "Length now:  660\n"
     ]
    }
   ],
   "source": [
    "ACTIONS_METRICS_CSV_PATH = CLEANED_DATA_PATH + \"daily_actions_metrics.csv\"\n",
    "ACTIONS_METRICS_EXCEL_PATH = CLEANED_DATA_PATH + \"daily_actions_metrics.xlsx\"\n",
    "actions_metrics = pd.read_csv(ACTIONS_METRICS_CSV_PATH)\n",
    "print(\"Previous length: \", len(actions_metrics))\n",
    "# Ensure the column is in datetime format\n",
    "actions_metrics['extraction_date'] = pd.to_datetime(actions_metrics['extraction_date'])\n",
    "# Filter out rows from 2025-05-14\n",
    "actions_metrics = actions_metrics[actions_metrics['extraction_date'] != str(today)]\n",
    "actions_metrics.to_csv(ACTIONS_METRICS_CSV_PATH, mode=\"w\", index=False, header=True)\n",
    "actions_metrics.to_excel(ACTIONS_METRICS_EXCEL_PATH, sheet_name=\"actions_metrics\", index=False)\n",
    "print(\"Length now: \", len(actions_metrics))"
   ]
  },
  {
   "cell_type": "markdown",
   "metadata": {},
   "source": [
    "# Delete Duplicates"
   ]
  },
  {
   "cell_type": "code",
   "execution_count": 3,
   "metadata": {},
   "outputs": [
    {
     "name": "stdout",
     "output_type": "stream",
     "text": [
      "Previous length:  56945\n",
      "Length now:  55702\n"
     ]
    }
   ],
   "source": [
    "POST_METRICS_CSV_PATH = CLEANED_DATA_PATH + \"daily_post_metrics.csv\"\n",
    "POST_METRICS_EXCEL_PATH = CLEANED_DATA_PATH + \"daily_post_metrics.xlsx\"\n",
    "post_metrics = pd.read_csv(POST_METRICS_CSV_PATH)\n",
    "print(\"Previous length: \", len(post_metrics))\n",
    "# Ensure the column is in datetime format\n",
    "post_metrics['extraction_date'] = pd.to_datetime(post_metrics['extraction_date'])\n",
    "# Drop duplicates on extraction_date, name, caption—keeping the last one\n",
    "post_metrics = post_metrics.drop_duplicates(\n",
    "    subset=['extraction_date', 'name', 'caption'],\n",
    "    keep='last'\n",
    ")\n",
    "post_metrics.to_csv(POST_METRICS_CSV_PATH, mode=\"w\", index=False, header=True)\n",
    "post_metrics.to_excel(POST_METRICS_EXCEL_PATH, sheet_name=\"post_metrics\", index=False)\n",
    "print(\"Length now: \", len(post_metrics))"
   ]
  },
  {
   "cell_type": "code",
   "execution_count": 4,
   "metadata": {},
   "outputs": [
    {
     "name": "stdout",
     "output_type": "stream",
     "text": [
      "Previous length:  51\n",
      "Length now:  50\n"
     ]
    }
   ],
   "source": [
    "PROFILE_METRICS_CSV_PATH = CLEANED_DATA_PATH + \"daily_profile_metrics.csv\"\n",
    "PROFILE_METRICS_EXCEL_PATH = CLEANED_DATA_PATH + \"daily_profile_metrics.xlsx\"\n",
    "profile_metrics = pd.read_csv(PROFILE_METRICS_CSV_PATH)\n",
    "print(\"Previous length: \", len(profile_metrics))\n",
    "# Ensure the column is in datetime format\n",
    "profile_metrics['extraction_date'] = pd.to_datetime(profile_metrics['extraction_date'])\n",
    "# Drop duplicates on extraction_date, name, caption—keeping the last one\n",
    "profile_metrics = profile_metrics.drop_duplicates(\n",
    "    subset=['extraction_date'],\n",
    "    keep='last'\n",
    ")\n",
    "profile_metrics.to_csv(PROFILE_METRICS_CSV_PATH, mode=\"w\", index=False, header=True)\n",
    "profile_metrics.to_excel(PROFILE_METRICS_EXCEL_PATH, sheet_name=\"profile_metrics\", index=False)\n",
    "print(\"Length now: \", len(profile_metrics))"
   ]
  },
  {
   "cell_type": "code",
   "execution_count": 5,
   "metadata": {},
   "outputs": [
    {
     "name": "stdout",
     "output_type": "stream",
     "text": [
      "Previous length:  2772\n",
      "Length now:  2709\n"
     ]
    }
   ],
   "source": [
    "DEMOGRAPHIC_METRICS_CSV_PATH = CLEANED_DATA_PATH + \"daily_demographic_metrics.csv\"\n",
    "DEMOGRAPHIC_METRICS_EXCEL_PATH = CLEANED_DATA_PATH + \"daily_demographic_metrics.xlsx\"\n",
    "demographics_metrics = pd.read_csv(DEMOGRAPHIC_METRICS_CSV_PATH)\n",
    "print(\"Previous length: \", len(demographics_metrics))\n",
    "# Ensure the column is in datetime format\n",
    "demographics_metrics['extraction_date'] = pd.to_datetime(demographics_metrics['extraction_date'])\n",
    "# Drop duplicates on extraction_date, name, caption—keeping the last one\n",
    "demographics_metrics = demographics_metrics.drop_duplicates(\n",
    "    subset=['extraction_date', 'category', 'age', 'gender'],\n",
    "    keep='last'\n",
    ")\n",
    "demographics_metrics.to_csv(DEMOGRAPHIC_METRICS_CSV_PATH, mode=\"w\", index=False, header=True)\n",
    "demographics_metrics.to_excel(DEMOGRAPHIC_METRICS_EXCEL_PATH, sheet_name=\"demographics_metrics\", index=False)\n",
    "print(\"Length now: \", len(demographics_metrics))"
   ]
  },
  {
   "cell_type": "code",
   "execution_count": 6,
   "metadata": {},
   "outputs": [
    {
     "name": "stdout",
     "output_type": "stream",
     "text": [
      "Previous length:  528\n",
      "Length now:  516\n"
     ]
    }
   ],
   "source": [
    "ACTIONS_METRICS_CSV_PATH = CLEANED_DATA_PATH + \"daily_actions_metrics.csv\"\n",
    "ACTIONS_METRICS_EXCEL_PATH = CLEANED_DATA_PATH + \"daily_actions_metrics.xlsx\"\n",
    "actions_metrics = pd.read_csv(ACTIONS_METRICS_CSV_PATH)\n",
    "print(\"Previous length: \", len(actions_metrics))\n",
    "# Ensure the column is in datetime format\n",
    "actions_metrics['extraction_date'] = pd.to_datetime(actions_metrics['extraction_date'])\n",
    "# Drop duplicates on extraction_date, name, caption—keeping the last one\n",
    "actions_metrics = actions_metrics.drop_duplicates(\n",
    "    subset=['extraction_date', 'Metric Name'],\n",
    "    keep='last'\n",
    ")\n",
    "actions_metrics.to_csv(ACTIONS_METRICS_CSV_PATH, mode=\"w\", index=False, header=True)\n",
    "actions_metrics.to_excel(ACTIONS_METRICS_EXCEL_PATH, sheet_name=\"actions_metrics\", index=False)\n",
    "print(\"Length now: \", len(actions_metrics))"
   ]
  }
 ],
 "metadata": {
  "kernelspec": {
   "display_name": "igsights_env",
   "language": "python",
   "name": "python3"
  },
  "language_info": {
   "codemirror_mode": {
    "name": "ipython",
    "version": 3
   },
   "file_extension": ".py",
   "mimetype": "text/x-python",
   "name": "python",
   "nbconvert_exporter": "python",
   "pygments_lexer": "ipython3",
   "version": "3.11.8"
  }
 },
 "nbformat": 4,
 "nbformat_minor": 2
}
